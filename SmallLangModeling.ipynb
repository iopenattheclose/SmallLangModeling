{
 "cells": [
  {
   "cell_type": "code",
   "execution_count": 2,
   "metadata": {},
   "outputs": [],
   "source": [
    "import os\n",
    "import email\n",
    "import pandas as pd\n",
    "import numpy as np\n",
    "from tqdm import tqdm\n",
    "import gc\n",
    "from os import path\n",
    "import re\n",
    "import csv\n",
    "import tensorflow as tf\n",
    "from datetime import datetime\n",
    "import pickle\n",
    "import matplotlib.pyplot as plt\n",
    "from wordcloud import WordCloud,STOPWORDS\n",
    "from collections import Counter\n",
    "from nltk.tokenize import sent_tokenize\n",
    "from nltk.translate.bleu_score import sentence_bleu\n",
    "from sklearn.utils import shuffle\n",
    "import nltk\n",
    "import random\n",
    "from nltk import bigrams, trigrams\n",
    "from collections import Counter, defaultdict\n",
    "from multiprocessing import  Pool\n",
    "from nltk.corpus import reuters\n"
   ]
  },
  {
   "cell_type": "code",
   "execution_count": 5,
   "metadata": {},
   "outputs": [],
   "source": [
    "df = pd.read_csv(\"emails.csv\")\n",
    "df = df.sample(frac=0.35, random_state=42)\n",
    "df.reset_index(inplace = True, drop = True)"
   ]
  },
  {
   "cell_type": "code",
   "execution_count": 6,
   "metadata": {},
   "outputs": [
    {
     "data": {
      "text/html": [
       "<div>\n",
       "<style scoped>\n",
       "    .dataframe tbody tr th:only-of-type {\n",
       "        vertical-align: middle;\n",
       "    }\n",
       "\n",
       "    .dataframe tbody tr th {\n",
       "        vertical-align: top;\n",
       "    }\n",
       "\n",
       "    .dataframe thead th {\n",
       "        text-align: right;\n",
       "    }\n",
       "</style>\n",
       "<table border=\"1\" class=\"dataframe\">\n",
       "  <thead>\n",
       "    <tr style=\"text-align: right;\">\n",
       "      <th></th>\n",
       "      <th>file</th>\n",
       "      <th>message</th>\n",
       "    </tr>\n",
       "  </thead>\n",
       "  <tbody>\n",
       "    <tr>\n",
       "      <th>0</th>\n",
       "      <td>shackleton-s/sent/1912.</td>\n",
       "      <td>Message-ID: &lt;21013688.1075844564560.JavaMail.e...</td>\n",
       "    </tr>\n",
       "    <tr>\n",
       "      <th>1</th>\n",
       "      <td>farmer-d/logistics/1066.</td>\n",
       "      <td>Message-ID: &lt;22688499.1075854130303.JavaMail.e...</td>\n",
       "    </tr>\n",
       "    <tr>\n",
       "      <th>2</th>\n",
       "      <td>parks-j/deleted_items/202.</td>\n",
       "      <td>Message-ID: &lt;27817771.1075841359502.JavaMail.e...</td>\n",
       "    </tr>\n",
       "    <tr>\n",
       "      <th>3</th>\n",
       "      <td>stokley-c/chris_stokley/iso/client_rep/41.</td>\n",
       "      <td>Message-ID: &lt;10695160.1075858510449.JavaMail.e...</td>\n",
       "    </tr>\n",
       "    <tr>\n",
       "      <th>4</th>\n",
       "      <td>germany-c/all_documents/1174.</td>\n",
       "      <td>Message-ID: &lt;27819143.1075853689038.JavaMail.e...</td>\n",
       "    </tr>\n",
       "  </tbody>\n",
       "</table>\n",
       "</div>"
      ],
      "text/plain": [
       "                                         file  \\\n",
       "0                     shackleton-s/sent/1912.   \n",
       "1                    farmer-d/logistics/1066.   \n",
       "2                  parks-j/deleted_items/202.   \n",
       "3  stokley-c/chris_stokley/iso/client_rep/41.   \n",
       "4               germany-c/all_documents/1174.   \n",
       "\n",
       "                                             message  \n",
       "0  Message-ID: <21013688.1075844564560.JavaMail.e...  \n",
       "1  Message-ID: <22688499.1075854130303.JavaMail.e...  \n",
       "2  Message-ID: <27817771.1075841359502.JavaMail.e...  \n",
       "3  Message-ID: <10695160.1075858510449.JavaMail.e...  \n",
       "4  Message-ID: <27819143.1075853689038.JavaMail.e...  "
      ]
     },
     "execution_count": 6,
     "metadata": {},
     "output_type": "execute_result"
    }
   ],
   "source": [
    "df.head()"
   ]
  },
  {
   "cell_type": "code",
   "execution_count": 7,
   "metadata": {},
   "outputs": [
    {
     "data": {
      "text/plain": [
       "(181090, 2)"
      ]
     },
     "execution_count": 7,
     "metadata": {},
     "output_type": "execute_result"
    }
   ],
   "source": [
    "df.shape"
   ]
  },
  {
   "cell_type": "code",
   "execution_count": 8,
   "metadata": {},
   "outputs": [
    {
     "data": {
      "text/plain": [
       "'Message-ID: <21013688.1075844564560.JavaMail.evans@thyme>\\nDate: Tue, 29 Aug 2000 01:26:00 -0700 (PDT)\\nFrom: sara.shackleton@enron.com\\nTo: william.bradford@enron.com\\nSubject: Re: Credit Derivatives\\nMime-Version: 1.0\\nContent-Type: text/plain; charset=us-ascii\\nContent-Transfer-Encoding: 7bit\\nX-From: Sara Shackleton\\nX-To: William S Bradford\\nX-cc: \\nX-bcc: \\nX-Folder: \\\\Sara_Shackleton_Dec2000_June2001_1\\\\Notes Folders\\\\Sent\\nX-Origin: SHACKLETON-S\\nX-FileName: sshackle.nsf\\n\\nBill:  Thanks for the info.   I also spoke with Jeff about how \\nEnronCredit.com Ltd. was going to work since Dennis O\\'Connell (London lawyer) \\nis responsible for that group.  Maybe you will be able to clarify which of \\nJeff\\'s \"positions\" will be hedges and which will be backed to EnronCredit.  \\nMaybe Rod will be handling most of Jeff\\'s credit.  I\\'d appreciate an update.  \\nSara\\n\\n\\n\\n\\tWilliam S Bradford\\n\\t08/29/2000 07:24 AM\\n\\t\\t\\n\\t\\t To: Sara Shackleton/HOU/ECT@ECT\\n\\t\\t cc: Mark Taylor/HOU/ECT@ECT, Paul Radous/Corp/Enron@ENRON, Rod \\nNelson/LON/ECT@ECT\\n\\t\\t Subject: Re: Credit Derivatives\\n\\nSara,\\n\\nPlease contact either Paul Radous or me on credit derivatives in the U.S.  \\nRod Nelson is the lead credit support for EnronCredit.com and should also be \\navailable in London, if necessary.  I am not aware of these recent trades but \\nI am having lunch with Jeff Kinneman on Thursday to discuss among other \\nthings Credit support for his business.  \\n\\nIt does concern me that we would offer to provide collateral DLJ without \\nTreasury\\'s approval.\\n\\nBill\\n\\n\\n\\n\\n\\n\\nFrom: Sara Shackleton on 08/28/2000 06:53 PM\\nTo: William S Bradford/HOU/ECT@ECT\\ncc: Mark Taylor/HOU/ECT@ECT \\nSubject: Credit Derivatives\\n\\nI am seeing more and more credit derivatives.  The trades originating in \\nHouston are coming from Jeff Kinneman\\'s bond/debt traders but are booked in \\nthe name of ECT Investments, Inc. or ENA.  I can\\'t be certain if these are \\nbacked to EnronCredit.com Limited.  \\n\\nIn particular, there is a proposed total return bond trade with DLJ \\nInternational Capital requiring ECT Investments to post collateral.  We have \\nno master with this party.  Who in Houston credit  is looking at credit \\nderivatives?\\n\\nFYI, other credit deals seem to be transacted wtih Deutsche Bank and UBS AG.\\n\\n\\n\\n'"
      ]
     },
     "execution_count": 8,
     "metadata": {},
     "output_type": "execute_result"
    }
   ],
   "source": [
    "df['message'][0]"
   ]
  },
  {
   "cell_type": "code",
   "execution_count": 9,
   "metadata": {},
   "outputs": [],
   "source": [
    "def body(messages):\n",
    "    column = []\n",
    "    for message in messages:\n",
    "        e = email.message_from_string(message)\n",
    "        column.append(e.get_payload())\n",
    "    return column\n",
    "\n",
    "df['content'] = body(df['message'])"
   ]
  },
  {
   "cell_type": "code",
   "execution_count": 10,
   "metadata": {},
   "outputs": [
    {
     "data": {
      "text/html": [
       "<div>\n",
       "<style scoped>\n",
       "    .dataframe tbody tr th:only-of-type {\n",
       "        vertical-align: middle;\n",
       "    }\n",
       "\n",
       "    .dataframe tbody tr th {\n",
       "        vertical-align: top;\n",
       "    }\n",
       "\n",
       "    .dataframe thead th {\n",
       "        text-align: right;\n",
       "    }\n",
       "</style>\n",
       "<table border=\"1\" class=\"dataframe\">\n",
       "  <thead>\n",
       "    <tr style=\"text-align: right;\">\n",
       "      <th></th>\n",
       "      <th>file</th>\n",
       "      <th>message</th>\n",
       "      <th>content</th>\n",
       "    </tr>\n",
       "  </thead>\n",
       "  <tbody>\n",
       "    <tr>\n",
       "      <th>0</th>\n",
       "      <td>shackleton-s/sent/1912.</td>\n",
       "      <td>Message-ID: &lt;21013688.1075844564560.JavaMail.e...</td>\n",
       "      <td>Bill:  Thanks for the info.   I also spoke wit...</td>\n",
       "    </tr>\n",
       "    <tr>\n",
       "      <th>1</th>\n",
       "      <td>farmer-d/logistics/1066.</td>\n",
       "      <td>Message-ID: &lt;22688499.1075854130303.JavaMail.e...</td>\n",
       "      <td>Aimee,\\nPlease check meter #1591 Lamay gas lif...</td>\n",
       "    </tr>\n",
       "    <tr>\n",
       "      <th>2</th>\n",
       "      <td>parks-j/deleted_items/202.</td>\n",
       "      <td>Message-ID: &lt;27817771.1075841359502.JavaMail.e...</td>\n",
       "      <td>GCCA Crawfish and rip-off raffle &amp; over-priced...</td>\n",
       "    </tr>\n",
       "    <tr>\n",
       "      <th>3</th>\n",
       "      <td>stokley-c/chris_stokley/iso/client_rep/41.</td>\n",
       "      <td>Message-ID: &lt;10695160.1075858510449.JavaMail.e...</td>\n",
       "      <td>&lt;&lt;Keoni.zip&gt;&gt; Chris, per your request here ar...</td>\n",
       "    </tr>\n",
       "    <tr>\n",
       "      <th>4</th>\n",
       "      <td>germany-c/all_documents/1174.</td>\n",
       "      <td>Message-ID: &lt;27819143.1075853689038.JavaMail.e...</td>\n",
       "      <td>I'm trying to change the Receipt Meter on deal...</td>\n",
       "    </tr>\n",
       "  </tbody>\n",
       "</table>\n",
       "</div>"
      ],
      "text/plain": [
       "                                         file  \\\n",
       "0                     shackleton-s/sent/1912.   \n",
       "1                    farmer-d/logistics/1066.   \n",
       "2                  parks-j/deleted_items/202.   \n",
       "3  stokley-c/chris_stokley/iso/client_rep/41.   \n",
       "4               germany-c/all_documents/1174.   \n",
       "\n",
       "                                             message  \\\n",
       "0  Message-ID: <21013688.1075844564560.JavaMail.e...   \n",
       "1  Message-ID: <22688499.1075854130303.JavaMail.e...   \n",
       "2  Message-ID: <27817771.1075841359502.JavaMail.e...   \n",
       "3  Message-ID: <10695160.1075858510449.JavaMail.e...   \n",
       "4  Message-ID: <27819143.1075853689038.JavaMail.e...   \n",
       "\n",
       "                                             content  \n",
       "0  Bill:  Thanks for the info.   I also spoke wit...  \n",
       "1  Aimee,\\nPlease check meter #1591 Lamay gas lif...  \n",
       "2  GCCA Crawfish and rip-off raffle & over-priced...  \n",
       "3   <<Keoni.zip>> Chris, per your request here ar...  \n",
       "4  I'm trying to change the Receipt Meter on deal...  "
      ]
     },
     "execution_count": 10,
     "metadata": {},
     "output_type": "execute_result"
    }
   ],
   "source": [
    "df.head()\n"
   ]
  }
 ],
 "metadata": {
  "kernelspec": {
   "display_name": "Python 3",
   "language": "python",
   "name": "python3"
  },
  "language_info": {
   "codemirror_mode": {
    "name": "ipython",
    "version": 3
   },
   "file_extension": ".py",
   "mimetype": "text/x-python",
   "name": "python",
   "nbconvert_exporter": "python",
   "pygments_lexer": "ipython3",
   "version": "3.12.4"
  }
 },
 "nbformat": 4,
 "nbformat_minor": 2
}
